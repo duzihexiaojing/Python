{
 "cells": [
  {
   "cell_type": "markdown",
   "metadata": {},
   "source": [
    "# 选择\n",
    "## 布尔类型、数值和表达式\n",
    "![](../Photo/33.png)\n",
    "- 注意：比较运算符的相等是两个等号，一个等到代表赋值\n",
    "- 在Python中可以用整型0来代表False，其他数字来代表True\n",
    "- 后面还会讲到 is 在判断语句中的用发"
   ]
  },
  {
   "cell_type": "code",
   "execution_count": 1,
   "metadata": {},
   "outputs": [
    {
     "data": {
      "text/plain": [
       "True"
      ]
     },
     "execution_count": 1,
     "metadata": {},
     "output_type": "execute_result"
    }
   ],
   "source": [
    "a=1\n",
    "b=1\n",
    "a==b"
   ]
  },
  {
   "cell_type": "code",
   "execution_count": 2,
   "metadata": {
    "scrolled": true
   },
   "outputs": [
    {
     "data": {
      "text/plain": [
       "False"
      ]
     },
     "execution_count": 2,
     "metadata": {},
     "output_type": "execute_result"
    }
   ],
   "source": [
    "a=1\n",
    "b=0\n",
    "a==b"
   ]
  },
  {
   "cell_type": "code",
   "execution_count": 3,
   "metadata": {
    "scrolled": true
   },
   "outputs": [
    {
     "data": {
      "text/plain": [
       "False"
      ]
     },
     "execution_count": 3,
     "metadata": {},
     "output_type": "execute_result"
    }
   ],
   "source": [
    "0 is 1"
   ]
  },
  {
   "cell_type": "code",
   "execution_count": 4,
   "metadata": {},
   "outputs": [
    {
     "data": {
      "text/plain": [
       "False"
      ]
     },
     "execution_count": 4,
     "metadata": {},
     "output_type": "execute_result"
    }
   ],
   "source": [
    "a = 'Joker'\n",
    "b = 'jhsdj'\n",
    "a>b             #ASC||值"
   ]
  },
  {
   "cell_type": "markdown",
   "metadata": {},
   "source": [
    "## 字符串的比较使用ASCII值"
   ]
  },
  {
   "cell_type": "markdown",
   "metadata": {},
   "source": [
    "## Markdown \n",
    "- https://github.com/younghz/Markdown"
   ]
  },
  {
   "cell_type": "code",
   "execution_count": null,
   "metadata": {},
   "outputs": [],
   "source": []
  },
  {
   "cell_type": "markdown",
   "metadata": {},
   "source": [
    "## EP:\n",
    "- <img src=\"../Photo/34.png\"></img>\n",
    "- 输入一个数字，判断其实奇数还是偶数"
   ]
  },
  {
   "cell_type": "code",
   "execution_count": 5,
   "metadata": {},
   "outputs": [
    {
     "data": {
      "text/plain": [
       "True"
      ]
     },
     "execution_count": 5,
     "metadata": {},
     "output_type": "execute_result"
    }
   ],
   "source": [
    "bool(4)"
   ]
  },
  {
   "cell_type": "code",
   "execution_count": 6,
   "metadata": {},
   "outputs": [
    {
     "data": {
      "text/plain": [
       "False"
      ]
     },
     "execution_count": 6,
     "metadata": {},
     "output_type": "execute_result"
    }
   ],
   "source": [
    "bool(0)"
   ]
  },
  {
   "cell_type": "code",
   "execution_count": 7,
   "metadata": {
    "scrolled": true
   },
   "outputs": [
    {
     "ename": "NameError",
     "evalue": "name 'condition' is not defined",
     "output_type": "error",
     "traceback": [
      "\u001b[1;31m---------------------------------------------------------------------------\u001b[0m",
      "\u001b[1;31mNameError\u001b[0m                                 Traceback (most recent call last)",
      "\u001b[1;32m<ipython-input-7-cc67d50afefa>\u001b[0m in \u001b[0;36m<module>\u001b[1;34m\u001b[0m\n\u001b[1;32m----> 1\u001b[1;33m \u001b[1;32mif\u001b[0m \u001b[0mcondition\u001b[0m\u001b[1;33m:\u001b[0m\u001b[1;33m\u001b[0m\u001b[1;33m\u001b[0m\u001b[0m\n\u001b[0m\u001b[0;32m      2\u001b[0m     \u001b[1;32mpass\u001b[0m\u001b[1;33m\u001b[0m\u001b[1;33m\u001b[0m\u001b[0m\n\u001b[0;32m      3\u001b[0m \u001b[1;32melse\u001b[0m\u001b[1;33m:\u001b[0m\u001b[1;33m\u001b[0m\u001b[1;33m\u001b[0m\u001b[0m\n\u001b[0;32m      4\u001b[0m     \u001b[1;32mpass\u001b[0m\u001b[1;33m\u001b[0m\u001b[1;33m\u001b[0m\u001b[0m\n",
      "\u001b[1;31mNameError\u001b[0m: name 'condition' is not defined"
     ]
    }
   ],
   "source": [
    "if condition:\n",
    "    pass\n",
    "else:\n",
    "    pass"
   ]
  },
  {
   "cell_type": "code",
   "execution_count": 12,
   "metadata": {},
   "outputs": [
    {
     "name": "stdout",
     "output_type": "stream",
     "text": [
      "请输入一个数6\n",
      "偶数\n"
     ]
    }
   ],
   "source": [
    "a=eval(input('请输入一个数'))\n",
    "if a % 2 ==0:\n",
    "   print ('偶数')\n",
    "if a % 2 ==1:\n",
    "    print ('奇数')"
   ]
  },
  {
   "cell_type": "markdown",
   "metadata": {},
   "source": [
    "## 产生随机数字\n",
    "- 函数random.randint(a,b) 可以用来产生一个a和b之间且包括a和b的随机整数"
   ]
  },
  {
   "cell_type": "code",
   "execution_count": 23,
   "metadata": {},
   "outputs": [],
   "source": [
    "import random"
   ]
  },
  {
   "cell_type": "code",
   "execution_count": 14,
   "metadata": {},
   "outputs": [
    {
     "data": {
      "text/plain": [
       "2"
      ]
     },
     "execution_count": 14,
     "metadata": {},
     "output_type": "execute_result"
    }
   ],
   "source": [
    "random.randint(2,3)"
   ]
  },
  {
   "cell_type": "markdown",
   "metadata": {},
   "source": [
    "产生一个随机数，你去输入，如果你输入的数大于随机数，那么就告诉你太大了，反之，太小了，\n",
    "然后你一直输入，知道它满意为止"
   ]
  },
  {
   "cell_type": "code",
   "execution_count": 15,
   "metadata": {},
   "outputs": [
    {
     "data": {
      "text/plain": [
       "2"
      ]
     },
     "execution_count": 15,
     "metadata": {},
     "output_type": "execute_result"
    }
   ],
   "source": [
    "random.randint(2,3)"
   ]
  },
  {
   "cell_type": "code",
   "execution_count": 18,
   "metadata": {},
   "outputs": [],
   "source": [
    "x=random.randint(0,10)"
   ]
  },
  {
   "cell_type": "code",
   "execution_count": 25,
   "metadata": {},
   "outputs": [
    {
     "name": "stdout",
     "output_type": "stream",
     "text": [
      "y5\n",
      "太大了\n",
      "y3\n",
      "正确\n"
     ]
    }
   ],
   "source": [
    "while 1:\n",
    "    y=eval(input('y'))\n",
    "    if y > x:\n",
    "        print('太大了')\n",
    "    if y < x:\n",
    "        print('太小了')\n",
    "    if y ==x:\n",
    "        print('正确')\n",
    "        break         "
   ]
  },
  {
   "cell_type": "markdown",
   "metadata": {},
   "source": [
    "##  其他random方法\n",
    "- random.random 返回0.0到1.0之间前闭后开区间的随机浮点\n",
    "- random.randrange(a,b) 前闭后开"
   ]
  },
  {
   "cell_type": "code",
   "execution_count": 26,
   "metadata": {
    "scrolled": true
   },
   "outputs": [
    {
     "data": {
      "text/plain": [
       "0.1912874559414004"
      ]
     },
     "execution_count": 26,
     "metadata": {},
     "output_type": "execute_result"
    }
   ],
   "source": [
    "random.random()"
   ]
  },
  {
   "cell_type": "code",
   "execution_count": 35,
   "metadata": {
    "scrolled": true
   },
   "outputs": [
    {
     "data": {
      "text/plain": [
       "9"
      ]
     },
     "execution_count": 35,
     "metadata": {},
     "output_type": "execute_result"
    }
   ],
   "source": [
    "random.randrange(0,10)    #显示随机数"
   ]
  },
  {
   "cell_type": "markdown",
   "metadata": {},
   "source": [
    "## EP：\n",
    "- 产生两个随机整数number1和number2，然后显示给用户，使用户输入数字的和，并判定其是否正确\n",
    "- 进阶:写一个随机序号点名程序"
   ]
  },
  {
   "cell_type": "code",
   "execution_count": 38,
   "metadata": {},
   "outputs": [],
   "source": [
    "number1=random.randint(0,10)\n",
    "number2=random.randint(0,10)"
   ]
  },
  {
   "cell_type": "code",
   "execution_count": 39,
   "metadata": {},
   "outputs": [
    {
     "name": "stdout",
     "output_type": "stream",
     "text": [
      "x1\n",
      "y2\n",
      "太小了\n",
      "x1\n",
      "y5\n",
      "太小了\n",
      "x5\n",
      "y2\n",
      "太小了\n",
      "x6\n",
      "y5\n",
      "太小了\n",
      "x8\n",
      "y9\n",
      "正确\n"
     ]
    }
   ],
   "source": [
    "while 1:\n",
    "    x=eval(input('x'))\n",
    "    y=eval(input('y'))\n",
    "    if x+y>number1+number2:\n",
    "        print('太大了')\n",
    "    if x+y<number1+number2:\n",
    "        print('太小了')\n",
    "    if x+y==number1+number2:\n",
    "        print('正确')\n",
    "        break         "
   ]
  },
  {
   "cell_type": "code",
   "execution_count": 52,
   "metadata": {},
   "outputs": [
    {
     "name": "stdout",
     "output_type": "stream",
     "text": [
      "7 0\n"
     ]
    }
   ],
   "source": [
    "number1=random.randint(0,10)\n",
    "number2=random.randint(0,10)\n",
    "print(number1,number2)"
   ]
  },
  {
   "cell_type": "code",
   "execution_count": 41,
   "metadata": {
    "scrolled": true
   },
   "outputs": [
    {
     "name": "stdout",
     "output_type": "stream",
     "text": [
      "x1\n",
      "错误\n",
      "x5\n",
      "错误\n",
      "x8\n",
      "错误\n",
      "x6\n",
      "错误\n",
      "x2\n",
      "错误\n"
     ]
    }
   ],
   "source": [
    "for i in range(5):\n",
    "    x=eval(input('x'))\n",
    "    if x==(number1+number2):\n",
    "        print('正确')\n",
    "        break\n",
    "    else:\n",
    "        print('错误')"
   ]
  },
  {
   "cell_type": "code",
   "execution_count": 53,
   "metadata": {
    "scrolled": true
   },
   "outputs": [
    {
     "name": "stdout",
     "output_type": "stream",
     "text": [
      "x7\n",
      "正确\n"
     ]
    }
   ],
   "source": [
    "for i in range(5):\n",
    "    x=eval(input('x'))\n",
    "    if x==(number1+number2):\n",
    "        print('正确')\n",
    "        break\n",
    "    else:\n",
    "        print('错误')"
   ]
  },
  {
   "cell_type": "code",
   "execution_count": 46,
   "metadata": {},
   "outputs": [],
   "source": [
    "number1=random.randint(0,10)\n",
    "number2=random.randint(0,10)"
   ]
  },
  {
   "cell_type": "code",
   "execution_count": 48,
   "metadata": {},
   "outputs": [
    {
     "ename": "IndentationError",
     "evalue": "unexpected indent (<ipython-input-48-d4b76a4d1c1b>, line 2)",
     "output_type": "error",
     "traceback": [
      "\u001b[1;36m  File \u001b[1;32m\"<ipython-input-48-d4b76a4d1c1b>\"\u001b[1;36m, line \u001b[1;32m2\u001b[0m\n\u001b[1;33m    if x==(number1+number2):\u001b[0m\n\u001b[1;37m    ^\u001b[0m\n\u001b[1;31mIndentationError\u001b[0m\u001b[1;31m:\u001b[0m unexpected indent\n"
     ]
    }
   ],
   "source": [
    "x=eval(input('x'))\n",
    "if x==(number1+number2):\n",
    "        print('正确')\n",
    "        break\n",
    "    else:\n",
    "        print('错误')"
   ]
  },
  {
   "cell_type": "code",
   "execution_count": null,
   "metadata": {},
   "outputs": [],
   "source": [
    "#输入一个数：6\n",
    "#你输入的数可以整除 2 和 3"
   ]
  },
  {
   "cell_type": "code",
   "execution_count": null,
   "metadata": {},
   "outputs": [],
   "source": [
    "x=eval(input('x'))\n",
    "for i in range(2,x):\n",
    "    if x%i == 0:\n",
    "        print(i,'可以整除')"
   ]
  },
  {
   "cell_type": "code",
   "execution_count": 3,
   "metadata": {},
   "outputs": [
    {
     "name": "stdout",
     "output_type": "stream",
     "text": [
      "x16\n",
      "2 可以整除\n",
      "4 可以整除\n",
      "8 可以整除\n"
     ]
    }
   ],
   "source": [
    "x=eval(input('x'))\n",
    "for i in range(2,x):\n",
    "    if x%i == 0:\n",
    "        print(i,'可以整除')"
   ]
  },
  {
   "cell_type": "markdown",
   "metadata": {},
   "source": [
    "## if语句\n",
    "- 如果条件正确就执行一个单向if语句，亦即当条件为真的时候才执行if内部的语句\n",
    "- Python有很多选择语句:\n",
    "> - 单向if \n",
    "  - 双向if-else\n",
    "  - 嵌套if\n",
    "  - 多向if-elif-else\n",
    "  \n",
    "- 注意：当语句含有子语句的时候，那么一定至少要有一个缩进，也就是说如果有儿子存在，那么一定要缩进\n",
    "- 切记不可tab键和space混用，单用tab 或者 space\n",
    "- 当你输出的结果是无论if是否为真时都需要显示时，语句应该与if对齐"
   ]
  },
  {
   "cell_type": "code",
   "execution_count": null,
   "metadata": {},
   "outputs": [],
   "source": []
  },
  {
   "cell_type": "markdown",
   "metadata": {},
   "source": [
    "## EP：\n",
    "- 用户输入一个数字，判断其实奇数还是偶数\n",
    "- 进阶：可以查看下4.5实例研究猜生日"
   ]
  },
  {
   "cell_type": "markdown",
   "metadata": {},
   "source": [
    "## 双向if-else 语句\n",
    "- 如果条件为真，那么走if内部语句，否则走else内部语句"
   ]
  },
  {
   "cell_type": "code",
   "execution_count": null,
   "metadata": {},
   "outputs": [],
   "source": [
    "if condition:\n",
    "    if condition:\n",
    "        do something\n",
    "    else:\n",
    "        other\n",
    "    do something\n",
    "else:               #框架\n",
    "    other"
   ]
  },
  {
   "cell_type": "code",
   "execution_count": 6,
   "metadata": {},
   "outputs": [
    {
     "name": "stdout",
     "output_type": "stream",
     "text": [
      "Money[yes/no]yes\n",
      "再问一个问题-\n",
      "Handsome[yes/no]yes\n",
      "非常关键的一个问题\n",
      "wife[yes/no]no\n",
      "马上结婚\n"
     ]
    }
   ],
   "source": [
    "money = input('Money[yes/no]')\n",
    "if money =='yes':\n",
    "    print('再问一个问题-')\n",
    "    handsome = input('Handsome[yes/no]')\n",
    "    if handsome =='yes':\n",
    "        print('非常关键的一个问题')\n",
    "        wife = input('wife[yes/no]')\n",
    "        if wife == 'yes':\n",
    "            print('不拒绝')\n",
    "        else:\n",
    "            print('马上结婚')\n",
    "    else:\n",
    "        print('考虑一下')\n",
    "else:\n",
    "    print('Gun~')      \n"
   ]
  },
  {
   "cell_type": "code",
   "execution_count": 7,
   "metadata": {},
   "outputs": [
    {
     "name": "stdout",
     "output_type": "stream",
     "text": [
      "Money[yes/no]no\n",
      "Gun~\n"
     ]
    }
   ],
   "source": [
    "money = input('Money[yes/no]')\n",
    "if money =='yes':\n",
    "    print('再问一个问题-')\n",
    "    handsome = input('Handsome[yes/no]')\n",
    "    if handsome =='yes':\n",
    "        print('非常关键的一个问题')\n",
    "        wife = input('wife[yes/no]')\n",
    "        if wife == 'yes':\n",
    "            print('不拒绝')\n",
    "        else:\n",
    "            print('马上结婚')\n",
    "    else:\n",
    "        print('考虑一下')\n",
    "else:\n",
    "    print('Gun~')      \n"
   ]
  },
  {
   "cell_type": "markdown",
   "metadata": {},
   "source": [
    "## EP：\n",
    "- 产生两个随机整数number1和number2，然后显示给用户，使用户输入数字，并判定其是否正确,如果正确打印“you‘re correct”，否则打印正确错误"
   ]
  },
  {
   "cell_type": "markdown",
   "metadata": {},
   "source": [
    "## 嵌套if 和多向if-elif-else\n",
    "![](../Photo/35.png)"
   ]
  },
  {
   "cell_type": "code",
   "execution_count": 7,
   "metadata": {},
   "outputs": [
    {
     "ename": "SyntaxError",
     "evalue": "invalid syntax (<ipython-input-7-aa7eb29a76e2>, line 5)",
     "output_type": "error",
     "traceback": [
      "\u001b[1;36m  File \u001b[1;32m\"<ipython-input-7-aa7eb29a76e2>\"\u001b[1;36m, line \u001b[1;32m5\u001b[0m\n\u001b[1;33m    ifx==0:\u001b[0m\n\u001b[1;37m           ^\u001b[0m\n\u001b[1;31mSyntaxError\u001b[0m\u001b[1;31m:\u001b[0m invalid syntax\n"
     ]
    }
   ],
   "source": [
    "x1=eval(input('钱？[y/n]'))\n",
    "x2=eval(input('帅？[y/n]'))\n",
    "x3=eval(input('老婆？[y/n]'))\n",
    "X=x1+x2+x3\n",
    "ifx==0:\n",
    "    print('滚')\n",
    "ifx==2:\n",
    "    priny('考虑一下')\n",
    "elifx3==0:\n",
    "    print('马上结婚')\n",
    "ifx==3:    \n",
    "    print('有老婆，也要考虑一下')     #错误\n"
   ]
  },
  {
   "cell_type": "markdown",
   "metadata": {},
   "source": [
    "## EP：\n",
    "- 提示用户输入一个年份，然后显示表示这一年的动物\n",
    "![](../Photo/36.png)\n",
    "- 计算身体质量指数的程序\n",
    "- BMI = 以千克为单位的体重除以以米为单位的身高的平方\n",
    "![](../Photo/37.png)"
   ]
  },
  {
   "cell_type": "code",
   "execution_count": 6,
   "metadata": {},
   "outputs": [
    {
     "name": "stdout",
     "output_type": "stream",
     "text": [
      "请输入年份1976\n",
      "龙\n"
     ]
    }
   ],
   "source": [
    "year=eval(input('请输入年份'))\n",
    "if year%12==0:\n",
    "    print('猴')\n",
    "elif year%12==1:\n",
    "    print('鸡')\n",
    "elif year%12==2:\n",
    "    print('狗')\n",
    "elif year%12==3:\n",
    "    print('猪')\n",
    "elif year%12==4:\n",
    "    print('鼠')\n",
    "elif year%12==5:\n",
    "    print('牛')\n",
    "elif year%12==6:\n",
    "    print('虎')\n",
    "elif year%12==7:\n",
    "    print('兔')\n",
    "elif year%12==8:\n",
    "    print('龙')\n",
    "elif year%12==9:\n",
    "    print('蛇')\n",
    "elif year%12==10:\n",
    "    print('马')\n",
    "else:\n",
    "    print('羊')\n",
    " \n",
    "    "
   ]
  },
  {
   "cell_type": "code",
   "execution_count": 12,
   "metadata": {},
   "outputs": [
    {
     "name": "stdout",
     "output_type": "stream",
     "text": [
      "身高188\n",
      "体重140\n",
      "超轻\n"
     ]
    }
   ],
   "source": [
    "身高=eval(input('身高'))\n",
    "体重=eval(input('体重'))\n",
    "BMI=体重/身高**2\n",
    "if BMI <18.5:\n",
    "    print('超轻')\n",
    "elif 18.5 <=BMI<25:\n",
    "    print('标准')\n",
    "elif 25 <=BMI<30:\n",
    "    print('超重')\n",
    "else:\n",
    "    print('痴肥')\n",
    "    \n"
   ]
  },
  {
   "cell_type": "markdown",
   "metadata": {},
   "source": [
    "## 逻辑运算符\n",
    "![](../Photo/38.png)"
   ]
  },
  {
   "cell_type": "markdown",
   "metadata": {},
   "source": [
    "![](../Photo/39.png)\n",
    "![](../Photo/40.png)"
   ]
  },
  {
   "cell_type": "markdown",
   "metadata": {},
   "source": [
    "## EP：\n",
    "- 判定闰年：一个年份如果能被4整除但不能被100整除，或者能被400整除，那么这个年份就是闰年\n",
    "- 提示用户输入一个年份，并返回是否是闰年\n",
    "- 提示用户输入一个数字，判断其是否为水仙花数"
   ]
  },
  {
   "cell_type": "code",
   "execution_count": 22,
   "metadata": {},
   "outputs": [
    {
     "name": "stdout",
     "output_type": "stream",
     "text": [
      "请输入年份2004\n",
      "闰年\n"
     ]
    }
   ],
   "source": [
    "year = eval(input('请输入年份'))\n",
    "if (year % 4 == 0 and year % 100 !=0) or year % 400==0:\n",
    "    print('闰年')\n",
    "else:\n",
    "    print('平年')"
   ]
  },
  {
   "cell_type": "code",
   "execution_count": 4,
   "metadata": {},
   "outputs": [
    {
     "name": "stdout",
     "output_type": "stream",
     "text": [
      "数字152\n"
     ]
    }
   ],
   "source": [
    "number = eval (input('数字'))\n",
    "bai = number // 100\n",
    "shi = number //10 %10\n",
    "ge = number %10\n",
    "if bai **3 + shi **3 + ge **3==number:\n",
    "     print('水仙花')"
   ]
  },
  {
   "cell_type": "code",
   "execution_count": 6,
   "metadata": {},
   "outputs": [
    {
     "name": "stdout",
     "output_type": "stream",
     "text": [
      "153 水仙花\n",
      "370 水仙花\n",
      "371 水仙花\n",
      "407 水仙花\n"
     ]
    }
   ],
   "source": [
    "for number in range(100,1000):\n",
    "    bai = number // 100\n",
    "    shi = number //10 %10\n",
    "    ge = number %10\n",
    "    if bai **3 + shi **3 + ge **3==number:\n",
    "        print(number,'水仙花')    "
   ]
  },
  {
   "cell_type": "markdown",
   "metadata": {},
   "source": [
    "## 实例研究：彩票\n",
    "![](../Photo/41.png)"
   ]
  },
  {
   "cell_type": "markdown",
   "metadata": {},
   "source": [
    "# Homework\n",
    "- 1\n",
    "![](../Photo/42.png)"
   ]
  },
  {
   "cell_type": "code",
   "execution_count": 17,
   "metadata": {},
   "outputs": [
    {
     "name": "stdout",
     "output_type": "stream",
     "text": [
      "请输入一个数1\n",
      "请输入一个数2\n",
      "请输入一个数1\n",
      "-1.0\n"
     ]
    }
   ],
   "source": [
    "a=eval(input('请输入一个数'))\n",
    "b=eval(input('请输入一个数'))\n",
    "c=eval(input('请输入一个数'))\n",
    "r1=(-b+(b**2-4*a*c)**0.5)/2*a\n",
    "r2=(-b-(b**2-4*a*c)**0.5)/2*a\n",
    "if b**2-4*a*c > 0:\n",
    "    print(r1,r2)\n",
    "if b**2-4*a*c == 0:\n",
    "    print(r1)\n",
    "if b**2-4*a*c < 0:\n",
    "    print('The equation has no real roots')"
   ]
  },
  {
   "cell_type": "markdown",
   "metadata": {},
   "source": [
    "- 2\n",
    "![](../Photo/43.png)"
   ]
  },
  {
   "cell_type": "code",
   "execution_count": 24,
   "metadata": {},
   "outputs": [],
   "source": [
    "import random"
   ]
  },
  {
   "cell_type": "code",
   "execution_count": 30,
   "metadata": {},
   "outputs": [
    {
     "name": "stdout",
     "output_type": "stream",
     "text": [
      "81 69\n"
     ]
    }
   ],
   "source": [
    "number1=random.randint(0,100)\n",
    "number2=random.randint(0,100)\n",
    "print(number1,number2)"
   ]
  },
  {
   "cell_type": "code",
   "execution_count": 34,
   "metadata": {},
   "outputs": [
    {
     "name": "stdout",
     "output_type": "stream",
     "text": [
      "请输入这两个整数的和150\n",
      "真\n"
     ]
    }
   ],
   "source": [
    "x=eval(input('请输入这两个整数的和'))\n",
    "if x==(number1+number2):\n",
    "        print('真')\n",
    "else:\n",
    "        print('假')"
   ]
  },
  {
   "cell_type": "markdown",
   "metadata": {},
   "source": [
    "- 3\n",
    "![](../Photo/44.png)"
   ]
  },
  {
   "cell_type": "code",
   "execution_count": 6,
   "metadata": {},
   "outputs": [
    {
     "name": "stdout",
     "output_type": "stream",
     "text": [
      "0-6内的任意一个数字2\n",
      "几天后3\n",
      "3 天后是星期 5\n"
     ]
    }
   ],
   "source": [
    "d = eval(input('0-6内的任意一个数字'))\n",
    "t = eval(input('几天后'))\n",
    "if d==0:\n",
    "    x = (t+d)%7\n",
    "    print(t,'天后是星期',x)\n",
    "if d==1:\n",
    "    x = (t+d)%7\n",
    "    print(t,'天后是星期',x)\n",
    "if d==2:\n",
    "    x = (t+d)%7\n",
    "    print(t,'天后是星期',x)\n",
    "if d==3:\n",
    "    x = (t+d)%7\n",
    "    print(t,'天后是星期',x)\n",
    "if d==4:\n",
    "    x = (t+d)%7\n",
    "    print(t,'天后是星期',x)\n",
    "if d==5:\n",
    "    x = (t+d)%7\n",
    "    print(t,'天后是星期',x)\n",
    "if d==6:\n",
    "    x = (t+d)%7\n",
    "    print(t,'天后是星期',x)"
   ]
  },
  {
   "cell_type": "markdown",
   "metadata": {},
   "source": [
    "- 4\n",
    "![](../Photo/45.png)"
   ]
  },
  {
   "cell_type": "code",
   "execution_count": 38,
   "metadata": {},
   "outputs": [
    {
     "name": "stdout",
     "output_type": "stream",
     "text": [
      "请输入一个数1\n",
      "请输入一个数8\n",
      "请输入一个数4\n",
      "1 4 8\n"
     ]
    }
   ],
   "source": [
    "a=eval(input('请输入一个数'))\n",
    "b=eval(input('请输入一个数'))\n",
    "c=eval(input('请输入一个数'))\n",
    "if a > b and b > c:\n",
    "       print(c ,b, a)\n",
    "elif a > c and c > b:\n",
    "       print(b ,c ,a)\n",
    "elif b > a and a > c:\n",
    "       print(c, a, b)\n",
    "elif b > c and c > a:\n",
    "       print(a, c ,b)\n",
    "elif c > a and a > b:\n",
    "       print(b ,a, c)\n",
    "elif c > b and b > a:\n",
    "       print(a ,b, c)\n"
   ]
  },
  {
   "cell_type": "markdown",
   "metadata": {},
   "source": [
    "- 5\n",
    "![](../Photo/46.png)"
   ]
  },
  {
   "cell_type": "code",
   "execution_count": 47,
   "metadata": {},
   "outputs": [
    {
     "name": "stdout",
     "output_type": "stream",
     "text": [
      "请输入重量和价钱50,24.59\n",
      "请输入重量和价钱25,11.99\n",
      "25 11.99\n"
     ]
    }
   ],
   "source": [
    "weight1,price1=eval(input('请输入重量和价钱'))\n",
    "weight2,price2=eval(input('请输入重量和价钱'))\n",
    "if (price1/weight1)<(price2/weight2):\n",
    "    print(weight1,price1)\n",
    "elif (price1/weight1)>(price2/weight2):\n",
    "        print(weight2,price2)\n"
   ]
  },
  {
   "cell_type": "markdown",
   "metadata": {},
   "source": [
    "- 6\n",
    "![](../Photo/47.png)"
   ]
  },
  {
   "cell_type": "code",
   "execution_count": 16,
   "metadata": {},
   "outputs": [
    {
     "name": "stdout",
     "output_type": "stream",
     "text": [
      "请输入一个年份1999\n",
      "请输入一个月份7\n",
      "1999 年 7 月 有31天\n"
     ]
    }
   ],
   "source": [
    "year=eval(input('请输入一个年份'))\n",
    "month=eval(input('请输入一个月份'))\n",
    "if ((year%4==0) and (year%100!=0)) or (year%400==0):\n",
    "    if month<=7:\n",
    "        if month%2==0:\n",
    "            if month==2:\n",
    "                print(year,'年',month,'月','有29天')\n",
    "            else:\n",
    "                print(year,'年',month,'月','有30天')\n",
    "        else:\n",
    "            print(year,'年',month,'月','有31天')\n",
    "    else:\n",
    "        if month%2==0:\n",
    "            print(year,'年',month,'月','有31天')\n",
    "        else:\n",
    "            print(year,'年',month,'月','有30天')\n",
    "else :\n",
    "    if month<=7:\n",
    "        if month%2==0:\n",
    "            if month==2:\n",
    "                print(year,'年',month,'月','有28天')\n",
    "            else:\n",
    "                print(year,'年',month,'月','有30天')\n",
    "        else:\n",
    "            print(year,'年',month,'月','有31天')\n",
    "    else:\n",
    "        if month%2==0:\n",
    "            print(year,'年',month,'月','有31天')\n",
    "        else:\n",
    "            print(year,'年',month,'月','有30天')"
   ]
  },
  {
   "cell_type": "markdown",
   "metadata": {},
   "source": [
    "- 7\n",
    "![](../Photo/48.png)"
   ]
  },
  {
   "cell_type": "code",
   "execution_count": 19,
   "metadata": {
    "scrolled": true
   },
   "outputs": [],
   "source": [
    "import random"
   ]
  },
  {
   "cell_type": "code",
   "execution_count": 18,
   "metadata": {},
   "outputs": [
    {
     "name": "stdout",
     "output_type": "stream",
     "text": [
      "输入猜测1\n",
      "正确\n"
     ]
    }
   ],
   "source": [
    "a=random.randint(0,1)\n",
    "b=eval(input(\"输入猜测\"))\n",
    "if a==b:\n",
    "    print(\"正确\")\n",
    "else:\n",
    "    print(\"错误\")\n",
    "    "
   ]
  },
  {
   "cell_type": "markdown",
   "metadata": {},
   "source": [
    "\n",
    "- 8\n",
    "![](../Photo/49.png)"
   ]
  },
  {
   "cell_type": "code",
   "execution_count": 27,
   "metadata": {},
   "outputs": [
    {
     "name": "stdout",
     "output_type": "stream",
     "text": [
      "s0，r1，p2  1\n",
      "I won\n"
     ]
    }
   ],
   "source": [
    "c=random.randint(0,2)\n",
    "I = eval(input('s0，r1，p2  '))\n",
    "if c>I:\n",
    "    print('I won')\n",
    "if c<I:\n",
    "    print('I won')\n",
    "if c==I:\n",
    "    print('it is a draw')"
   ]
  },
  {
   "cell_type": "markdown",
   "metadata": {},
   "source": [
    "- 9\n",
    "![](../Photo/50.png)"
   ]
  },
  {
   "cell_type": "code",
   "execution_count": 7,
   "metadata": {},
   "outputs": [
    {
     "name": "stdout",
     "output_type": "stream",
     "text": [
      "请输入年份1999\n",
      "请输入月份7\n",
      "请输入这是这个月的第几天21\n",
      "6.300000000000011\n",
      "今天是星期五\n"
     ]
    }
   ],
   "source": [
    "import math\n",
    "y = int(input(\"请输入年份\"))\n",
    "m = int(input(\"请输入月份\"))\n",
    "q = int(input(\"请输入这是这个月的第几天\"))\n",
    "a = q + ((26 * (m + 1)) / 10 )\n",
    "j = y // 100\n",
    "k = y % 100\n",
    "b = k + (k / 4) +(j / 4) + 5 * j\n",
    "h = (a+b)%7\n",
    "print(h)\n",
    "x = math.floor(h)\n",
    "if x == 0: \n",
    "    print(\"今天是星期六\")\n",
    "elif x == 2: \n",
    "            print(\"今天是星期一\")\n",
    "elif x == 3:\n",
    "            print(\"今天是星期二\")\n",
    "elif x == 4:\n",
    "            print(\"今天是星期三\")\n",
    "elif x == 5:\n",
    "            print(\"今天是星期四\")\n",
    "elif x == 6:\n",
    "            print(\"今天是星期五\")\n",
    "elif x == 1:\n",
    "            print(\"今天是星期日\")"
   ]
  },
  {
   "cell_type": "markdown",
   "metadata": {},
   "source": [
    "- 10\n",
    "![](../Photo/51.png)"
   ]
  },
  {
   "cell_type": "code",
   "execution_count": 8,
   "metadata": {},
   "outputs": [],
   "source": [
    "import random"
   ]
  },
  {
   "cell_type": "code",
   "execution_count": 11,
   "metadata": {},
   "outputs": [
    {
     "name": "stdout",
     "output_type": "stream",
     "text": [
      "The card you picked is the hongtao of 7\n"
     ]
    }
   ],
   "source": [
    "colour=random.randint(1,4)\n",
    "daxiao=random.randint(1,12)\n",
    "if colour==1:\n",
    "    h='meihua'\n",
    "elif colour==2:\n",
    "    h='hongtao'\n",
    "elif colour==3:\n",
    "    h='fangkuai'\n",
    "elif colour==4:\n",
    "    h='heitao'\n",
    "elif daxiao==1:\n",
    "    daxiao='Ace'\n",
    "elif daxiao==2:\n",
    "    daxiao='2'\n",
    "elif daxiao==3:\n",
    "    daxiao='3'\n",
    "elif daxiao==4:\n",
    "    daxiao='4'\n",
    "elif daxiao==5:\n",
    "    daxiao='5'\n",
    "elif daxiao==6:\n",
    "    daxiao='6'\n",
    "elif daxiao==7:\n",
    "    daxiao='7'\n",
    "elif daxiao==8:\n",
    "    daxiao='8'\n",
    "elif daxiao==9:\n",
    "    daxiao='9'\n",
    "elif daxiao==10:\n",
    "    daxiao='10'\n",
    "elif daxiao==11:\n",
    "    daxiao='Jack'\n",
    "elif daxiao==2:\n",
    "    daxiao='Queen'\n",
    "elif daxiao==2:\n",
    "    daxiao='king'\n",
    "\n",
    "print('The card you picked is the',h,'of',daxiao)"
   ]
  },
  {
   "cell_type": "markdown",
   "metadata": {},
   "source": [
    "- 11\n",
    "![](../Photo/52.png)"
   ]
  },
  {
   "cell_type": "code",
   "execution_count": 12,
   "metadata": {},
   "outputs": [
    {
     "name": "stdout",
     "output_type": "stream",
     "text": [
      "输入一个三位整数787\n",
      "是回文数\n"
     ]
    }
   ],
   "source": [
    "x = eval(input('输入一个三位整数'))\n",
    "if x%10==x//100:\n",
    "    print('是回文数')\n",
    "else:\n",
    "    print('不是回文数')"
   ]
  },
  {
   "cell_type": "markdown",
   "metadata": {},
   "source": [
    "- 12\n",
    "![](../Photo/53.png)"
   ]
  },
  {
   "cell_type": "code",
   "execution_count": 15,
   "metadata": {},
   "outputs": [
    {
     "name": "stdout",
     "output_type": "stream",
     "text": [
      "输入边长1,1,2\n",
      "输入的边长不合法\n"
     ]
    }
   ],
   "source": [
    "x,y,z = eval(input('输入边长'))\n",
    "if (x+y>z) and (x+z>y) and (y+z>x):\n",
    "    print(x+y+z)\n",
    "else:\n",
    "    print('输入的边长不合法')"
   ]
  },
  {
   "cell_type": "code",
   "execution_count": null,
   "metadata": {},
   "outputs": [],
   "source": []
  }
 ],
 "metadata": {
  "kernelspec": {
   "display_name": "Python 3",
   "language": "python",
   "name": "python3"
  },
  "language_info": {
   "codemirror_mode": {
    "name": "ipython",
    "version": 3
   },
   "file_extension": ".py",
   "mimetype": "text/x-python",
   "name": "python",
   "nbconvert_exporter": "python",
   "pygments_lexer": "ipython3",
   "version": "3.7.3"
  }
 },
 "nbformat": 4,
 "nbformat_minor": 2
}
