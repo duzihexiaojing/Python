{
 "cells": [
  {
   "cell_type": "markdown",
   "metadata": {},
   "source": [
    "# 对象和类\n",
    "- 一个学生，一张桌子，一个圆都是对象\n",
    "- 对象是类的一个实例，你可以创建多个对象，创建类的一个实例过程被称为实例化，\n",
    "- 在Python中对象就是实例，而实例就是对象"
   ]
  },
  {
   "cell_type": "markdown",
   "metadata": {},
   "source": [
    "## 定义类\n",
    "class ClassName:\n",
    "\n",
    "    do something\n",
    "    \n",
    "- class 类的表示与def 一样\n",
    "- 类名最好使用驼峰式\n",
    "- 在Python2中类是需要继承基类object的，在Python中默认继承，可写可不写\n",
    "- 可以将普通代码理解为皮肤，而函数可以理解为内衣，那么类可以理解为外套"
   ]
  },
  {
   "cell_type": "code",
   "execution_count": 2,
   "metadata": {},
   "outputs": [],
   "source": [
    "#类必须初始化，是用self，初始化自身。\n",
    "#类里面所有的函数中的第一个变量不再是参数，而是一个印记。\n",
    "#在类中，如果有参数需要多次使用，那么就可以将其设置为共享参数。\n",
    "class hxj:\n",
    "    def __init__(self): \n",
    "        print('我初始化了')\n",
    "    def print_(self):\n",
    "        print('hxj hahah')"
   ]
  },
  {
   "cell_type": "code",
   "execution_count": 8,
   "metadata": {},
   "outputs": [
    {
     "name": "stdout",
     "output_type": "stream",
     "text": [
      "我初始化了\n"
     ]
    }
   ],
   "source": [
    "hh = hxj()             #()代表直接走初始化函数"
   ]
  },
  {
   "cell_type": "code",
   "execution_count": 9,
   "metadata": {
    "scrolled": true
   },
   "outputs": [
    {
     "ename": "AttributeError",
     "evalue": "'hxj' object has no attribute 'print_'",
     "output_type": "error",
     "traceback": [
      "\u001b[1;31m---------------------------------------------------------------------------\u001b[0m",
      "\u001b[1;31mAttributeError\u001b[0m                            Traceback (most recent call last)",
      "\u001b[1;32m<ipython-input-9-0b3733e2b35b>\u001b[0m in \u001b[0;36m<module>\u001b[1;34m\u001b[0m\n\u001b[1;32m----> 1\u001b[1;33m \u001b[0mhh\u001b[0m \u001b[1;33m.\u001b[0m \u001b[0mprint_\u001b[0m\u001b[1;33m(\u001b[0m\u001b[0mname\u001b[0m\u001b[1;33m=\u001b[0m\u001b[1;34m'hh'\u001b[0m\u001b[1;33m)\u001b[0m\u001b[1;33m\u001b[0m\u001b[1;33m\u001b[0m\u001b[0m\n\u001b[0m",
      "\u001b[1;31mAttributeError\u001b[0m: 'hxj' object has no attribute 'print_'"
     ]
    }
   ],
   "source": [
    "hh . print_(name='hh')"
   ]
  },
  {
   "cell_type": "code",
   "execution_count": null,
   "metadata": {},
   "outputs": [],
   "source": [
    "输入一个数 判断奇数或是偶数/  输入一个年份 判断是平年还是闰年"
   ]
  },
  {
   "cell_type": "code",
   "execution_count": 26,
   "metadata": {},
   "outputs": [],
   "source": [
    "class HXJ:\n",
    "    def __init__(self,num1,num2):\n",
    "        print('我初始化了')\n",
    "        #参数共享\n",
    "        self.num1 = num1\n",
    "        self.num2 = num2\n",
    "    def jiou(self):\n",
    "        if self.num1 %2 == 0:\n",
    "            return self.num1\n",
    "        else:\n",
    "            print('偶数')         \n",
    "    def pingrun(self):\n",
    "        if self.num2 %4 == 0and self.num2 %  100!= 0 or self.num2 % 400 == 0:  \n",
    "            return self.num2\n",
    "        else:\n",
    "            print('平年')\n",
    "        "
   ]
  },
  {
   "cell_type": "code",
   "execution_count": 27,
   "metadata": {},
   "outputs": [
    {
     "name": "stdout",
     "output_type": "stream",
     "text": [
      "我初始化了\n"
     ]
    }
   ],
   "source": [
    "hhh = HXJ(num1=5,num2=1999)"
   ]
  },
  {
   "cell_type": "code",
   "execution_count": 28,
   "metadata": {},
   "outputs": [
    {
     "name": "stdout",
     "output_type": "stream",
     "text": [
      "偶数\n"
     ]
    }
   ],
   "source": [
    "hhh.jiou()"
   ]
  },
  {
   "cell_type": "code",
   "execution_count": 29,
   "metadata": {},
   "outputs": [
    {
     "name": "stdout",
     "output_type": "stream",
     "text": [
      "平年\n"
     ]
    }
   ],
   "source": [
    "hhh.pingrun()"
   ]
  },
  {
   "cell_type": "markdown",
   "metadata": {},
   "source": [
    "## 定义一个不含初始化__init__的简单类\n",
    "class ClassName:\n",
    "\n",
    "    joker = “Home”\n",
    "    \n",
    "    def func():\n",
    "        print('Worker')\n",
    "    \n",
    "- 尽量少使用"
   ]
  },
  {
   "cell_type": "markdown",
   "metadata": {},
   "source": [
    "\n",
    "\n",
    "## 定义一个标准类\n",
    "- __init__ 代表初始化，可以初始化任何动作\n",
    "- 此时类调用要使用()，其中（）可以理解为开始初始化\n",
    "- 初始化内的元素，类中其他的函数可以共享\n",
    "![](../Photo/85.png)"
   ]
  },
  {
   "cell_type": "markdown",
   "metadata": {},
   "source": [
    "- Circle 和 className_ 的第一个区别有 __init__ 这个函数\n",
    "- 。。。。   第二个区别，类中的每一个函数都有self的这个“参数”"
   ]
  },
  {
   "cell_type": "markdown",
   "metadata": {},
   "source": [
    "## 何为self？\n",
    "- self 是指向对象本身的参数\n",
    "- self 只是一个命名规则，其实可以改变的，但是我们约定俗成的是self，也便于理解\n",
    "- 使用了self就可以访问类中定义的成员\n",
    "<img src=\"../Photo/86.png\"></img>"
   ]
  },
  {
   "cell_type": "markdown",
   "metadata": {},
   "source": [
    "## 使用类 Cirlcle"
   ]
  },
  {
   "cell_type": "markdown",
   "metadata": {},
   "source": [
    "## 类的传参\n",
    "- class ClassName:\n",
    "    \n",
    "        def __init__(self, para1,para2...)：\n",
    "            \n",
    "            self.para1 = para1\n",
    "            \n",
    "            self.para2 = para2"
   ]
  },
  {
   "cell_type": "markdown",
   "metadata": {},
   "source": [
    "## EP:\n",
    "- A：定义一个类，类中含有两个功能：\n",
    "    - 1、产生3个随机数，获取最大值\n",
    "    - 2、产生3个随机数，获取最小值\n",
    "- B：定义一个类，（类中函数的嵌套使用）\n",
    "    - 1、第一个函数的功能为：输入一个数字\n",
    "    - 2、第二个函数的功能为：使用第一个函数中得到的数字进行平方处理\n",
    "    - 3、第三个函数的功能为：得到平方处理后的数字 - 原来输入的数字，并打印结果"
   ]
  },
  {
   "cell_type": "code",
   "execution_count": null,
   "metadata": {},
   "outputs": [],
   "source": [
    "例子： A"
   ]
  },
  {
   "cell_type": "code",
   "execution_count": 31,
   "metadata": {},
   "outputs": [],
   "source": [
    "import random\n",
    "class abc:\n",
    "    def __init__(self):\n",
    "        print('初始化')\n",
    "    def max_(self):\n",
    "        self.a = random.randint(0,10)\n",
    "        self.b = random.randint(0,10)\n",
    "        self.c = random.randint(0,10)\n",
    "        print(self.a,self.b,self.c)\n",
    "        return max(self.a,self.b,self.c)\n",
    "    def min_(self):\n",
    "        self.a = random.randint(0,10)\n",
    "        self.b = random.randint(0,10)\n",
    "        self.c = random.randint(0,10)\n",
    "        print(self.a,self.b,self.c)\n",
    "        return min(self.a,self.b,self.c)\n",
    "        "
   ]
  },
  {
   "cell_type": "code",
   "execution_count": 33,
   "metadata": {},
   "outputs": [
    {
     "name": "stdout",
     "output_type": "stream",
     "text": [
      "初始化\n"
     ]
    }
   ],
   "source": [
    "ABC=abc()"
   ]
  },
  {
   "cell_type": "code",
   "execution_count": 35,
   "metadata": {
    "scrolled": true
   },
   "outputs": [
    {
     "name": "stdout",
     "output_type": "stream",
     "text": [
      "10 2 2\n"
     ]
    },
    {
     "data": {
      "text/plain": [
       "10"
      ]
     },
     "execution_count": 35,
     "metadata": {},
     "output_type": "execute_result"
    }
   ],
   "source": [
    "ABC.max_()"
   ]
  },
  {
   "cell_type": "code",
   "execution_count": 36,
   "metadata": {},
   "outputs": [
    {
     "name": "stdout",
     "output_type": "stream",
     "text": [
      "2 6 9\n"
     ]
    },
    {
     "data": {
      "text/plain": [
       "2"
      ]
     },
     "execution_count": 36,
     "metadata": {},
     "output_type": "execute_result"
    }
   ],
   "source": [
    "ABC.min_()"
   ]
  },
  {
   "cell_type": "code",
   "execution_count": null,
   "metadata": {},
   "outputs": [],
   "source": [
    "例子： B"
   ]
  },
  {
   "cell_type": "code",
   "execution_count": 53,
   "metadata": {},
   "outputs": [],
   "source": [
    "class asus:\n",
    "    def __init__(self):\n",
    "        print('初始化')\n",
    "    def shu(self):\n",
    "        self.a = eval(input('请输入一个数'))\n",
    "        print('输入的数字是:',self.a)\n",
    "    def shu1(self):\n",
    "        self.b = self.a**2\n",
    "        print('平方数是:',self.b)\n",
    "    def shu3(self):\n",
    "        self.c = self.b-self.a\n",
    "        print('两者的差值:',self.c)\n",
    "        \n",
    "    "
   ]
  },
  {
   "cell_type": "code",
   "execution_count": 54,
   "metadata": {},
   "outputs": [
    {
     "name": "stdout",
     "output_type": "stream",
     "text": [
      "初始化\n"
     ]
    }
   ],
   "source": [
    "WO=asus()"
   ]
  },
  {
   "cell_type": "code",
   "execution_count": 55,
   "metadata": {
    "scrolled": true
   },
   "outputs": [
    {
     "name": "stdout",
     "output_type": "stream",
     "text": [
      "请输入一个数4\n",
      "输入的数字是: 4\n"
     ]
    }
   ],
   "source": [
    "WO.shu()"
   ]
  },
  {
   "cell_type": "code",
   "execution_count": 56,
   "metadata": {},
   "outputs": [
    {
     "name": "stdout",
     "output_type": "stream",
     "text": [
      "平方数是: 16\n"
     ]
    }
   ],
   "source": [
    "WO.shu1()"
   ]
  },
  {
   "cell_type": "code",
   "execution_count": 58,
   "metadata": {},
   "outputs": [
    {
     "name": "stdout",
     "output_type": "stream",
     "text": [
      "两者的差值: 12\n"
     ]
    }
   ],
   "source": [
    "WO.shu3()"
   ]
  },
  {
   "cell_type": "code",
   "execution_count": null,
   "metadata": {},
   "outputs": [],
   "source": [
    "例子：登录密码"
   ]
  },
  {
   "cell_type": "code",
   "execution_count": 60,
   "metadata": {},
   "outputs": [],
   "source": [
    "class dell:\n",
    "    def __init__(self):\n",
    "        print('初始化')\n",
    "        self.account = 123\n",
    "        self.password = 123\n",
    "    def Account(self):\n",
    "        self.acc = eval(input('请输入账号:>>'))\n",
    "    def Password(self):\n",
    "        self.passwor= eval(input('请输入密码:>>'))\n",
    "    def Check(self):\n",
    "        if self.acc ==self.account and self.passwor ==self.password:\n",
    "            print('登陆成功')\n",
    "        else:\n",
    "            self.Verify()\n",
    "    def Verify(self):\n",
    "        Verify_Var = 123\n",
    "        print('验证码是:',Verify_Var)\n",
    "        while 1 :\n",
    "            User_Verify = eval(input('请输入验证码:>>'))\n",
    "            if User_Verify == Verify_Var:\n",
    "                print('登录失败')\n",
    "                break\n",
    "    def Start(self):\n",
    "        self.Account()\n",
    "        self.Password()\n",
    "        self.Check()\n",
    "        "
   ]
  },
  {
   "cell_type": "code",
   "execution_count": 61,
   "metadata": {},
   "outputs": [
    {
     "name": "stdout",
     "output_type": "stream",
     "text": [
      "初始化\n"
     ]
    }
   ],
   "source": [
    "z = dell()"
   ]
  },
  {
   "cell_type": "code",
   "execution_count": 64,
   "metadata": {
    "scrolled": true
   },
   "outputs": [
    {
     "name": "stdout",
     "output_type": "stream",
     "text": [
      "请输入账号:>>123\n",
      "请输入密码:>>456\n",
      "验证码是: 123\n",
      "请输入验证码:>>123\n",
      "登录失败\n"
     ]
    }
   ],
   "source": [
    "z.Start()"
   ]
  },
  {
   "cell_type": "markdown",
   "metadata": {},
   "source": [
    "## 类的继承\n",
    "- 类的单继承\n",
    "- 类的多继承\n",
    "- 继承标识\n",
    ">  class SonClass(FatherClass):\n",
    "            \n",
    "            def __init__(self):\n",
    "            \n",
    "                FatherClass.__init__(self)"
   ]
  },
  {
   "cell_type": "code",
   "execution_count": null,
   "metadata": {},
   "outputs": [],
   "source": [
    "hxj.__dir__()"
   ]
  },
  {
   "cell_type": "markdown",
   "metadata": {},
   "source": [
    "## 私有数据域(私有变量，或者私有函数)\n",
    "- 在Python中 变量名或者函数名使用双下划线代表私有  \\__Joker,   def \\__Joker():\n",
    "- 私有数据域不可继承\n",
    "- 私有数据域强制继承   \\__dir__()"
   ]
  },
  {
   "cell_type": "markdown",
   "metadata": {},
   "source": [
    "![](../Photo/87.png)"
   ]
  },
  {
   "cell_type": "code",
   "execution_count": null,
   "metadata": {},
   "outputs": [],
   "source": [
    "私有变量，不可被继承，不可在外部调用，但是可以在内部使用。"
   ]
  },
  {
   "cell_type": "code",
   "execution_count": null,
   "metadata": {},
   "outputs": [],
   "source": [
    "多态调用   静态调用    （廖雪峰网站）"
   ]
  },
  {
   "cell_type": "markdown",
   "metadata": {},
   "source": [
    "## EP:\n",
    "![](../Photo/88.png)\n",
    "![](../Photo/89.png)\n",
    "![](../Photo/90.png)\n"
   ]
  },
  {
   "cell_type": "markdown",
   "metadata": {},
   "source": [
    "## 类的其他\n",
    "- 类的封装\n",
    "    - 实际上就是将一类功能放在一起，方便未来进行管理\n",
    "- 类的继承（上面已经讲过）\n",
    "- 类的多态\n",
    "    - 包括装饰器：将放在以后处理高级类中教\n",
    "    - 装饰器的好处：当许多类中的函数需要使用同一个功能的时候，那么使用装饰器就会方便许多\n",
    "    - 装饰器是有固定的写法\n",
    "        - 其包括普通装饰器与带参装饰器"
   ]
  },
  {
   "cell_type": "markdown",
   "metadata": {},
   "source": [
    "# Homewor\n",
    "## UML类图可以不用画\n",
    "## UML 实际上就是一个思维图\n",
    "- 1\n",
    "![](../Photo/91.png)"
   ]
  },
  {
   "cell_type": "code",
   "execution_count": 11,
   "metadata": {},
   "outputs": [],
   "source": [
    "class Rectangle:\n",
    "    #初始化自己\n",
    "    def __init__(self):\n",
    "        print('初始化')\n",
    "        #设置固定参数\n",
    "        self.width = int(1)\n",
    "        self .height = int(2)\n",
    "        #第一个功能求面积\n",
    "    def getArea(self):\n",
    "        self.s = self.width*self.height\n",
    "        print('面积是:>>',self.s)\n",
    "        #第二个功能求周长\n",
    "    def getPerimeter(self):\n",
    "        self.c = 2*(self.width+self.height)\n",
    "        print('周长是:>>',self.c)"
   ]
  },
  {
   "cell_type": "code",
   "execution_count": 13,
   "metadata": {},
   "outputs": [
    {
     "name": "stdout",
     "output_type": "stream",
     "text": [
      "初始化\n"
     ]
    }
   ],
   "source": [
    "wahahah = Rectangle()"
   ]
  },
  {
   "cell_type": "code",
   "execution_count": 16,
   "metadata": {},
   "outputs": [
    {
     "name": "stdout",
     "output_type": "stream",
     "text": [
      "面积是:>> 2\n"
     ]
    }
   ],
   "source": [
    "wahahah.getArea()"
   ]
  },
  {
   "cell_type": "code",
   "execution_count": 17,
   "metadata": {},
   "outputs": [
    {
     "name": "stdout",
     "output_type": "stream",
     "text": [
      "周长是:>> 6\n"
     ]
    }
   ],
   "source": [
    "wahahah.getPerimeter()"
   ]
  },
  {
   "cell_type": "markdown",
   "metadata": {},
   "source": [
    "- 2\n",
    "![](../Photo/92.png)"
   ]
  },
  {
   "cell_type": "code",
   "execution_count": null,
   "metadata": {},
   "outputs": [],
   "source": [
    "class Account():\n",
    "    #初始化自己\n",
    "    def __init__(self):\n",
    "        print('初始化')\n",
    "    #设置固定参数\n",
    "        self.id = 0\n",
    "        __balance = 1.0\n",
    "        self.annuallnterestRate = 0.045\n",
    "        self.money = 20000\n",
    "        self.quchu = 2500\n",
    "        self.cunchu = 3000"
   ]
  },
  {
   "cell_type": "markdown",
   "metadata": {},
   "source": [
    "- 3\n",
    "![](../Photo/93.png)"
   ]
  },
  {
   "cell_type": "code",
   "execution_count": 30,
   "metadata": {},
   "outputs": [],
   "source": [
    "class Fan:\n",
    "    #初始化\n",
    "    def __init__(self):\n",
    "        print('我初始化啦')\n",
    "    def speed(self):\n",
    "        #固定参数\n",
    "        self.__SLOW = int(1)\n",
    "        self.__MEDIUM = int(2)\n",
    "        self.__FAST = int(3)\n",
    "        self.__radius = int(5)\n",
    "        self.color = 'blue'\n",
    "        self.on = 'false'\n",
    "        #第一个风扇情况\n",
    "        print('这个风扇的速度为>>',self.__SLOW,'状态为',self.on,'半径为>>',self.__radius,'颜色为>>',self.color)"
   ]
  },
  {
   "cell_type": "code",
   "execution_count": 31,
   "metadata": {},
   "outputs": [
    {
     "name": "stdout",
     "output_type": "stream",
     "text": [
      "我初始化啦\n"
     ]
    }
   ],
   "source": [
    "hxj = Fan()"
   ]
  },
  {
   "cell_type": "code",
   "execution_count": 32,
   "metadata": {},
   "outputs": [
    {
     "name": "stdout",
     "output_type": "stream",
     "text": [
      "这个风扇的速度为>> 1 状态为 false 半径为>> 5 颜色为>> blue\n"
     ]
    }
   ],
   "source": [
    "hxj.speed()"
   ]
  },
  {
   "cell_type": "code",
   "execution_count": 33,
   "metadata": {},
   "outputs": [],
   "source": [
    "class Fan1:\n",
    "    #初始化\n",
    "    def __init__(self):\n",
    "        print('我初始化啦')\n",
    "    def speed(self):\n",
    "        #固定参数\n",
    "        self.__SLOW = int(3)\n",
    "        self.__MEDIUM = int(2)\n",
    "        self.__FAST = int(3)\n",
    "        self.__radius = int(10)\n",
    "        self.color = 'yellow'\n",
    "        self.on = 'open'\n",
    "        #第二个风扇情况\n",
    "        print('这个风扇的速度为>>',self.__SLOW,'状态为>>',self.on,'半径为>>',self.__radius,'颜色为>>',self.color)"
   ]
  },
  {
   "cell_type": "code",
   "execution_count": 34,
   "metadata": {},
   "outputs": [
    {
     "name": "stdout",
     "output_type": "stream",
     "text": [
      "我初始化啦\n"
     ]
    }
   ],
   "source": [
    "hxj1 = Fan1()"
   ]
  },
  {
   "cell_type": "code",
   "execution_count": 35,
   "metadata": {},
   "outputs": [
    {
     "name": "stdout",
     "output_type": "stream",
     "text": [
      "这个风扇的速度为>> 3 状态为>> open 半径为>> 10 颜色为>> yellow\n"
     ]
    }
   ],
   "source": [
    "hxj1.speed()"
   ]
  },
  {
   "cell_type": "markdown",
   "metadata": {},
   "source": [
    "- 4\n",
    "![](../Photo/94.png)\n",
    "![](../Photo/95.png)"
   ]
  },
  {
   "cell_type": "code",
   "execution_count": 36,
   "metadata": {},
   "outputs": [],
   "source": [
    "import math\n",
    "class RegularPolygon:\n",
    "    #初始化\n",
    "    def __init__(self):\n",
    "        print('我初始化了')\n",
    "    #固定变量\n",
    "        self.__n=int(3)\n",
    "        self.__side=float(1)\n",
    "        self.__x=float(0)\n",
    "        self.__y=float(0)\n",
    "        #多边形的周长\n",
    "    def getPerimeter(self):\n",
    "        self.__C=self.__n*self.__side\n",
    "        print('边形周长：>>',self.__C)\n",
    "        #多边形的面积\n",
    "    def getArea(self):\n",
    "        self.__S=(self.__n*(self.__side**2))/4*math.tan(math.pi/self.__n)#面积\n",
    "        print('边形面积：>>',self.__S)"
   ]
  },
  {
   "cell_type": "code",
   "execution_count": 37,
   "metadata": {
    "scrolled": true
   },
   "outputs": [
    {
     "name": "stdout",
     "output_type": "stream",
     "text": [
      "我初始化了\n"
     ]
    }
   ],
   "source": [
    "abc=RegularPolygon()"
   ]
  },
  {
   "cell_type": "code",
   "execution_count": 38,
   "metadata": {
    "scrolled": true
   },
   "outputs": [
    {
     "name": "stdout",
     "output_type": "stream",
     "text": [
      "边形周长：>> 3.0\n"
     ]
    }
   ],
   "source": [
    "abc.getPerimeter()"
   ]
  },
  {
   "cell_type": "code",
   "execution_count": 39,
   "metadata": {},
   "outputs": [
    {
     "name": "stdout",
     "output_type": "stream",
     "text": [
      "边形面积：>> 1.2990381056766576\n"
     ]
    }
   ],
   "source": [
    "abc.getArea()"
   ]
  },
  {
   "cell_type": "markdown",
   "metadata": {},
   "source": [
    "- 5\n",
    "![](../Photo/96.png)"
   ]
  },
  {
   "cell_type": "code",
   "execution_count": 25,
   "metadata": {},
   "outputs": [],
   "source": [
    "class LinearEquation:\n",
    "    #初始化\n",
    "    def __init__(self):\n",
    "        print('初始化')\n",
    "    #固定变量\n",
    "        self.__a=eval(input('输入a值'))\n",
    "        self.__b=eval(input('输入b值'))\n",
    "        self.__c=eval(input('输入c值'))\n",
    "        self.__d=eval(input('输入d值'))\n",
    "        self.__e=eval(input('输入e值'))\n",
    "        self.__f=eval(input('输入f值'))\n",
    "      #判断方程是否有解  \n",
    "    def get(self):\n",
    "        if self.__a*self.__d-self.__b*self.__c!=0:\n",
    "            return 'true'\n",
    "        else:\n",
    "            return '这个方程无解'\n",
    "     #计算x\n",
    "    def getX(self):\n",
    "        self.x=(self.__e*self.__d-self.__b*self.__f)/(self.__a*self.__d-self.__b*self.__c)\n",
    "        print(self.x)\n",
    "    #计算y\n",
    "    def getY(self):\n",
    "        self.y=(self.__a*self.__f-self.__e*self.__c)/(self.__a*self.__d-self.__b*self.__c)\n",
    "        print(self.y)"
   ]
  },
  {
   "cell_type": "code",
   "execution_count": 26,
   "metadata": {},
   "outputs": [
    {
     "name": "stdout",
     "output_type": "stream",
     "text": [
      "初始化\n",
      "输入a值3\n",
      "输入b值4\n",
      "输入c值2\n",
      "输入d值1\n",
      "输入e值8\n",
      "输入f值5\n"
     ]
    }
   ],
   "source": [
    "hxj = LinearEquation()"
   ]
  },
  {
   "cell_type": "code",
   "execution_count": 27,
   "metadata": {},
   "outputs": [
    {
     "data": {
      "text/plain": [
       "'true'"
      ]
     },
     "execution_count": 27,
     "metadata": {},
     "output_type": "execute_result"
    }
   ],
   "source": [
    "hxj.get()"
   ]
  },
  {
   "cell_type": "code",
   "execution_count": 28,
   "metadata": {},
   "outputs": [
    {
     "name": "stdout",
     "output_type": "stream",
     "text": [
      "2.4\n"
     ]
    }
   ],
   "source": [
    "hxj.getX()"
   ]
  },
  {
   "cell_type": "code",
   "execution_count": 29,
   "metadata": {},
   "outputs": [
    {
     "name": "stdout",
     "output_type": "stream",
     "text": [
      "0.2\n"
     ]
    }
   ],
   "source": [
    "hxj.getY()"
   ]
  },
  {
   "cell_type": "markdown",
   "metadata": {},
   "source": [
    "- 6\n",
    "![](../Photo/97.png)"
   ]
  },
  {
   "cell_type": "code",
   "execution_count": null,
   "metadata": {},
   "outputs": [],
   "source": [
    "class hahah():\n",
    "    #初始化自己\n",
    "    def __init__(self):\n",
    "    #设置初始参数\n",
    "        self.x1=eval(input(\"请输入x1\")) \n",
    "        self.y1=eval(input(\"请输入y1\")) \n",
    "        self.x2=eval(input(\"请输入x2\")) \n",
    "        self.y2=eval(input(\"请输入y2\")) "
   ]
  },
  {
   "cell_type": "markdown",
   "metadata": {},
   "source": [
    "- 7\n",
    "![](../Photo/98.png)"
   ]
  }
 ],
 "metadata": {
  "kernelspec": {
   "display_name": "Python 3",
   "language": "python",
   "name": "python3"
  },
  "language_info": {
   "codemirror_mode": {
    "name": "ipython",
    "version": 3
   },
   "file_extension": ".py",
   "mimetype": "text/x-python",
   "name": "python",
   "nbconvert_exporter": "python",
   "pygments_lexer": "ipython3",
   "version": "3.7.3"
  }
 },
 "nbformat": 4,
 "nbformat_minor": 2
}
